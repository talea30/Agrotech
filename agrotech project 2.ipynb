{
 "cells": [
  {
   "cell_type": "code",
   "execution_count": 84,
   "metadata": {},
   "outputs": [],
   "source": [
    "import pandas as pd\n",
    "import matplotlib.pyplot as plt\n",
    "import seaborn as sns\n",
    "import numpy as np\n"
   ]
  },
  {
   "cell_type": "code",
   "execution_count": 85,
   "metadata": {},
   "outputs": [],
   "source": [
    "data = pd.read_csv(r'C:\\Users\\adyel\\Downloads\\project data.csv')\n"
   ]
  },
  {
   "cell_type": "code",
   "execution_count": 86,
   "metadata": {},
   "outputs": [],
   "source": [
    "data = data.drop(columns=['entry_id'])\n"
   ]
  },
  {
   "cell_type": "code",
   "execution_count": 87,
   "metadata": {},
   "outputs": [],
   "source": [
    "# create new 'filtered' dataframe, that the values of the weights are from the higher to the lower\n",
    "df = data.head(1)  # copy first row\n",
    "for i in np.arange(1, len(data)):\n",
    "    row = data.iloc[i]\n",
    "    nex, cur = int(row['weight[g]']), int(df.tail(1)['weight[g]'])\n",
    "    if nex <= cur:\n",
    "        df = df.append(row)"
   ]
  },
  {
   "cell_type": "code",
   "execution_count": 88,
   "metadata": {},
   "outputs": [],
   "source": [
    "df = df.set_index('created_at')\n",
    "\n"
   ]
  },
  {
   "cell_type": "code",
   "execution_count": 89,
   "metadata": {},
   "outputs": [
    {
     "name": "stderr",
     "output_type": "stream",
     "text": [
      "C:\\Users\\adyel\\anaconda3\\lib\\site-packages\\dateutil\\parser\\_parser.py:1213: UnknownTimezoneWarning: tzname IDT identified but not understood.  Pass `tzinfos` argument in order to correctly return a timezone-aware datetime.  In a future version, this will raise an exception.\n",
      "  warnings.warn(\"tzname {tzname} identified but not understood.  \"\n"
     ]
    }
   ],
   "source": [
    "df.index = pd.to_datetime(df.index)\n"
   ]
  },
  {
   "cell_type": "code",
   "execution_count": 90,
   "metadata": {},
   "outputs": [],
   "source": [
    "data_regular = df.resample('3H').mean().interpolate('linear')\n"
   ]
  },
  {
   "cell_type": "code",
   "execution_count": 91,
   "metadata": {},
   "outputs": [],
   "source": [
    "data_regular['h[kPa]'] = (data_regular['pressure 1[kPa]'] + data_regular['pressure 0[kPa]'])/2 # average\n",
    "data_regular['h[cm]'] = data_regular['h[kPa]'] * (100/9.8) # change from pressure[kPa] to head[cm]\n"
   ]
  },
  {
   "cell_type": "code",
   "execution_count": 92,
   "metadata": {},
   "outputs": [],
   "source": [
    "Wa = 63.9 # gram\n",
    "teta_r = 0.03\n",
    "Ws = Wa/1+teta_r\n",
    "V = 8*np.pi*1.25**2 # volume of the column [cm^3]\n",
    "db = Ws/V # g/cm^3\n",
    "\n"
   ]
  },
  {
   "cell_type": "code",
   "execution_count": 93,
   "metadata": {},
   "outputs": [],
   "source": [
    "W_column = 81.9\n",
    "data_regular['weight neto[g]'] = data_regular['weight[g]'] - W_column\n"
   ]
  },
  {
   "cell_type": "code",
   "execution_count": 94,
   "metadata": {},
   "outputs": [],
   "source": [
    "data_regular['Ww[g]'] = data_regular['weight neto[g]'] - Ws # weight of water\n",
    "data_regular['Ww[g]'] = data_regular['Ww[g]'].apply(lambda x : x if x > 0 else 0)## changing negative value to zero\n",
    "data_regular['teta_m'] = data_regular['Ww[g]'] / Ws\n",
    "\n",
    "data_regular['teta_v'] = data_regular['teta_m'] * db\n",
    "\n",
    "\n"
   ]
  },
  {
   "cell_type": "code",
   "execution_count": 95,
   "metadata": {},
   "outputs": [],
   "source": [
    "dw = 1 # density of water [g/cm^3]\n",
    "data_regular['Vw[cm^3]'] = data_regular['Ww[g]'] / dw  #  volume of water\n",
    "data_regular['Q[cm^3/H]'] = data_regular['Vw[cm^3]'] / 3 # divided by 3 because there 3 hours between each measurment\n",
    "data_regular['q[cm/H]'] = data_regular['Q[cm^3/H]'] / np.pi*1.25**2\n",
    "\n",
    "data_regular['dh[kPa]'] = (data_regular['pressure 1[kPa]'] - data_regular['pressure 0[kPa]'])\n",
    "data_regular['dh[cm]'] = data_regular['dh[kPa]'] * ((1000*100)/(1000*9.8)) # change from pressure[kPa] to head[cm]\n",
    "dz = 3\n",
    "data_regular['k(h)[cm/H]'] = data_regular['q[cm/H]'] / ((data_regular['dh[cm]'] / dz) + 1) # Buckingham Darcy law\n",
    "\n",
    "data_regular['k(h)[cm/H]'] = data_regular['k(h)[cm/H]'].apply(lambda x : x if x > 0 else 0)# changing negative value to zero\n",
    "\n",
    "\n",
    "\n"
   ]
  },
  {
   "cell_type": "code",
   "execution_count": 96,
   "metadata": {},
   "outputs": [
    {
     "data": {
      "image/png": "[encoded data removed]",
      "text/plain": [
       "<Figure size 720x360 with 2 Axes>"
      ]
     },
     "metadata": {
      "needs_background": "light"
     },
     "output_type": "display_data"
    }
   ],
   "source": [
    "fig = plt.figure(figsize=(10,5))\n",
    "ax1 = fig.add_subplot(1, 2, 1) \n",
    "ax2 = fig.add_subplot(1, 2, 2)\n",
    "\n",
    "ax1.plot(data_regular['teta_v'],data_regular['h[cm]']) \n",
    "ax2.plot(data_regular['teta_v'],data_regular['k(h)[cm/H]'])\n",
    "\n",
    "ax1.set_xlabel(r'$\\theta$ ') \n",
    "ax1.set_ylabel('h [cm]')\n",
    "ax2.set_xlabel(r'$\\theta$ ')\n",
    "ax2.set_ylabel('k(h)[cm/H]')\n",
    "\n",
    "ax1.set_title('Soil Water Characteristic')\n",
    "ax2.set_title('Hydraulic Conductivity against Soil Water Content ')\n",
    "\n",
    "ax1.set_xlim([0, 1])\n",
    "ax2.set_xlim([0, 1])\n",
    "\n",
    "plt.tight_layout() \n",
    "plt.show()"
   ]
  },
  {
   "cell_type": "code",
   "execution_count": null,
   "metadata": {},
   "outputs": [],
   "source": []
  },
  {
   "cell_type": "code",
   "execution_count": null,
   "metadata": {},
   "outputs": [],
   "source": []
  }
 ],
 "metadata": {
  "kernelspec": {
   "display_name": "Python 3",
   "language": "python",
   "name": "python3"
  },
  "language_info": {
   "codemirror_mode": {
    "name": "ipython",
    "version": 3
   },
   "file_extension": ".py",
   "mimetype": "text/x-python",
   "name": "python",
   "nbconvert_exporter": "python",
   "pygments_lexer": "ipython3",
   "version": "3.8.3"
  }
 },
 "nbformat": 4,
 "nbformat_minor": 4
}
